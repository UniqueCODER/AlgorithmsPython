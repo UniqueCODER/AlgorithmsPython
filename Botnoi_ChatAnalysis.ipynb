{
  "nbformat": 4,
  "nbformat_minor": 0,
  "metadata": {
    "colab": {
      "name": "Botnoi_ChatAnalysis.ipynb",
      "provenance": [],
      "collapsed_sections": [],
      "authorship_tag": "ABX9TyPf9Vi90eZ2L/N4XgdSdecJ",
      "include_colab_link": true
    },
    "kernelspec": {
      "name": "python3",
      "display_name": "Python 3"
    },
    "language_info": {
      "name": "python"
    }
  },
  "cells": [
    {
      "cell_type": "markdown",
      "metadata": {
        "id": "view-in-github",
        "colab_type": "text"
      },
      "source": [
        "<a href=\"https://colab.research.google.com/github/UniqueCODER/AlgorithmsPython/blob/master/Botnoi_ChatAnalysis.ipynb\" target=\"_parent\"><img src=\"https://colab.research.google.com/assets/colab-badge.svg\" alt=\"Open In Colab\"/></a>"
      ]
    },
    {
      "cell_type": "markdown",
      "source": [
        "# Import LIBRARIES "
      ],
      "metadata": {
        "id": "nomGtLGZgfE7"
      }
    },
    {
      "cell_type": "code",
      "source": [
        "!pip install tldextract"
      ],
      "metadata": {
        "colab": {
          "base_uri": "https://localhost:8080/"
        },
        "id": "d3uNm7bALcxw",
        "outputId": "29d8a8a6-dd8f-4e33-f3cf-2bc0442ae6a7"
      },
      "execution_count": 1,
      "outputs": [
        {
          "output_type": "stream",
          "name": "stdout",
          "text": [
            "Requirement already satisfied: tldextract in /usr/local/lib/python3.7/dist-packages (3.1.2)\n",
            "Requirement already satisfied: idna in /usr/local/lib/python3.7/dist-packages (from tldextract) (2.10)\n",
            "Requirement already satisfied: requests-file>=1.4 in /usr/local/lib/python3.7/dist-packages (from tldextract) (1.5.1)\n",
            "Requirement already satisfied: filelock>=3.0.8 in /usr/local/lib/python3.7/dist-packages (from tldextract) (3.4.2)\n",
            "Requirement already satisfied: requests>=2.1.0 in /usr/local/lib/python3.7/dist-packages (from tldextract) (2.23.0)\n",
            "Requirement already satisfied: certifi>=2017.4.17 in /usr/local/lib/python3.7/dist-packages (from requests>=2.1.0->tldextract) (2021.10.8)\n",
            "Requirement already satisfied: urllib3!=1.25.0,!=1.25.1,<1.26,>=1.21.1 in /usr/local/lib/python3.7/dist-packages (from requests>=2.1.0->tldextract) (1.24.3)\n",
            "Requirement already satisfied: chardet<4,>=3.0.2 in /usr/local/lib/python3.7/dist-packages (from requests>=2.1.0->tldextract) (3.0.4)\n",
            "Requirement already satisfied: six in /usr/local/lib/python3.7/dist-packages (from requests-file>=1.4->tldextract) (1.15.0)\n"
          ]
        }
      ]
    },
    {
      "cell_type": "code",
      "execution_count": 2,
      "metadata": {
        "id": "CjFCagpkeY-4"
      },
      "outputs": [],
      "source": [
        "import pandas as pd\n",
        "import matplotlib.pyplot as plt\n",
        "import numpy as np\n",
        "import seaborn as sns\n",
        "import tldextract"
      ]
    },
    {
      "cell_type": "code",
      "source": [
        "from google.colab import auth\n",
        "auth.authenticate_user()\n",
        "\n",
        "import gspread\n",
        "from oauth2client.client import GoogleCredentials\n",
        "\n",
        "gc = gspread.authorize(GoogleCredentials.get_application_default())"
      ],
      "metadata": {
        "id": "XHKYiwV_hvbT"
      },
      "execution_count": 3,
      "outputs": []
    },
    {
      "cell_type": "markdown",
      "source": [
        "# **ACCESS DATA**\n",
        "\n",
        "\n",
        "\n",
        "*   Open excel file from drive \n",
        "*   Set default columns\n",
        "\n",
        "\n"
      ],
      "metadata": {
        "id": "Xaeo3waHdLEL"
      }
    },
    {
      "cell_type": "code",
      "source": [
        "worksheet = gc.open('botnoi_survey1').sheet1\n",
        "\n",
        "rows = worksheet.get_all_values()\n",
        "df = pd.DataFrame.from_records(rows)"
      ],
      "metadata": {
        "id": "v7J6q0tIhwAl"
      },
      "execution_count": 4,
      "outputs": []
    },
    {
      "cell_type": "markdown",
      "source": [
        "# **DATA INFORMATION**\n",
        "\n",
        "\n",
        "1.   Top and Bottom values \n",
        "2.   Info \n",
        "3.   Shape\n",
        "\n"
      ],
      "metadata": {
        "id": "JsWR0bV2da3J"
      }
    },
    {
      "cell_type": "code",
      "source": [
        "df.columns = df.iloc[0]\n",
        "df = df[1:]"
      ],
      "metadata": {
        "id": "p1PFb_tnAK9U"
      },
      "execution_count": 5,
      "outputs": []
    },
    {
      "cell_type": "code",
      "source": [
        "df.head()"
      ],
      "metadata": {
        "colab": {
          "base_uri": "https://localhost:8080/",
          "height": 617
        },
        "id": "zycHKik_Jz2j",
        "outputId": "18774fd1-36d1-4f42-de15-82b1695b4e78"
      },
      "execution_count": 6,
      "outputs": [
        {
          "output_type": "execute_result",
          "data": {
            "text/html": [
              "\n",
              "  <div id=\"df-fc9580bf-0195-4804-95cf-c0fadc91bd3f\">\n",
              "    <div class=\"colab-df-container\">\n",
              "      <div>\n",
              "<style scoped>\n",
              "    .dataframe tbody tr th:only-of-type {\n",
              "        vertical-align: middle;\n",
              "    }\n",
              "\n",
              "    .dataframe tbody tr th {\n",
              "        vertical-align: top;\n",
              "    }\n",
              "\n",
              "    .dataframe thead th {\n",
              "        text-align: right;\n",
              "    }\n",
              "</style>\n",
              "<table border=\"1\" class=\"dataframe\">\n",
              "  <thead>\n",
              "    <tr style=\"text-align: right;\">\n",
              "      <th></th>\n",
              "      <th>SNO</th>\n",
              "      <th>P1</th>\n",
              "      <th>P2</th>\n",
              "      <th>P3</th>\n",
              "      <th>P4</th>\n",
              "      <th>P5.1</th>\n",
              "      <th>P5.2</th>\n",
              "      <th>P5.3</th>\n",
              "      <th>P5.4</th>\n",
              "      <th>P5.5</th>\n",
              "      <th>P5.6</th>\n",
              "      <th>P5.7</th>\n",
              "      <th>P5.8</th>\n",
              "      <th>P5.9</th>\n",
              "      <th>P6.1</th>\n",
              "      <th>P6.2</th>\n",
              "      <th>P6.3</th>\n",
              "      <th>P6.4</th>\n",
              "      <th>P6.5</th>\n",
              "      <th>P6.6</th>\n",
              "      <th>P6.7</th>\n",
              "      <th>P6.8</th>\n",
              "      <th>P6.9</th>\n",
              "      <th>P7.1</th>\n",
              "      <th>START_AT</th>\n",
              "      <th>END_AT</th>\n",
              "    </tr>\n",
              "  </thead>\n",
              "  <tbody>\n",
              "    <tr>\n",
              "      <th>1</th>\n",
              "      <td>1</td>\n",
              "      <td>Is an elementary school</td>\n",
              "      <td>Contact Boratoon</td>\n",
              "      <td>translate language</td>\n",
              "      <td>Knowledge game</td>\n",
              "      <td>#VALUE!</td>\n",
              "      <td>#VALUE!</td>\n",
              "      <td>#VALUE!</td>\n",
              "      <td>#VALUE!</td>\n",
              "      <td>#VALUE!</td>\n",
              "      <td>#VALUE!</td>\n",
              "      <td></td>\n",
              "      <td></td>\n",
              "      <td></td>\n",
              "      <td></td>\n",
              "      <td></td>\n",
              "      <td></td>\n",
              "      <td></td>\n",
              "      <td></td>\n",
              "      <td></td>\n",
              "      <td></td>\n",
              "      <td></td>\n",
              "      <td></td>\n",
              "      <td></td>\n",
              "      <td></td>\n",
              "      <td></td>\n",
              "    </tr>\n",
              "    <tr>\n",
              "      <th>2</th>\n",
              "      <td>2</td>\n",
              "      <td>Is a junior high school student</td>\n",
              "      <td>Change bots</td>\n",
              "      <td>Knowledge game</td>\n",
              "      <td>Knowledge game</td>\n",
              "      <td>#VALUE!</td>\n",
              "      <td>#VALUE!</td>\n",
              "      <td>#VALUE!</td>\n",
              "      <td>#VALUE!</td>\n",
              "      <td>#VALUE!</td>\n",
              "      <td>Request ... (Captions, images, quotes, numbers...</td>\n",
              "      <td></td>\n",
              "      <td></td>\n",
              "      <td></td>\n",
              "      <td></td>\n",
              "      <td></td>\n",
              "      <td></td>\n",
              "      <td></td>\n",
              "      <td></td>\n",
              "      <td></td>\n",
              "      <td></td>\n",
              "      <td></td>\n",
              "      <td></td>\n",
              "      <td>ไม่มี</td>\n",
              "      <td>2022-01-28 19:04</td>\n",
              "      <td>2022-01-28 19:05</td>\n",
              "    </tr>\n",
              "    <tr>\n",
              "      <th>3</th>\n",
              "      <td>3</td>\n",
              "      <td>Is a junior high school student</td>\n",
              "      <td>Private bots</td>\n",
              "      <td>Request ... (Captions, images, quotes, numbers...</td>\n",
              "      <td>Change the text into sound</td>\n",
              "      <td>#VALUE!</td>\n",
              "      <td>#VALUE!</td>\n",
              "      <td>#VALUE!</td>\n",
              "      <td>#VALUE!</td>\n",
              "      <td>#VALUE!</td>\n",
              "      <td>#VALUE!</td>\n",
              "      <td></td>\n",
              "      <td></td>\n",
              "      <td></td>\n",
              "      <td></td>\n",
              "      <td></td>\n",
              "      <td></td>\n",
              "      <td></td>\n",
              "      <td></td>\n",
              "      <td></td>\n",
              "      <td></td>\n",
              "      <td></td>\n",
              "      <td></td>\n",
              "      <td>ตอบแชทไวๆหน่อยจ้าาาา</td>\n",
              "      <td>2022-01-28 19:04</td>\n",
              "      <td>2022-01-28 19:05</td>\n",
              "    </tr>\n",
              "    <tr>\n",
              "      <th>4</th>\n",
              "      <td>4</td>\n",
              "      <td>Is a junior high school student</td>\n",
              "      <td>Depress</td>\n",
              "      <td>Private bots</td>\n",
              "      <td>Contact Boratoon</td>\n",
              "      <td>Change the text into sound</td>\n",
              "      <td>#VALUE!</td>\n",
              "      <td>#VALUE!</td>\n",
              "      <td>#VALUE!</td>\n",
              "      <td>#VALUE!</td>\n",
              "      <td>Request ... (Captions, images, quotes, numbers...</td>\n",
              "      <td></td>\n",
              "      <td></td>\n",
              "      <td></td>\n",
              "      <td></td>\n",
              "      <td></td>\n",
              "      <td></td>\n",
              "      <td></td>\n",
              "      <td></td>\n",
              "      <td></td>\n",
              "      <td></td>\n",
              "      <td></td>\n",
              "      <td></td>\n",
              "      <td>คุยกับคนรู้เรื่องเข้าใจคน</td>\n",
              "      <td>2022-01-28 19:04</td>\n",
              "      <td>2022-01-28 19:06</td>\n",
              "    </tr>\n",
              "    <tr>\n",
              "      <th>5</th>\n",
              "      <td>5</td>\n",
              "      <td>Is a junior high school student</td>\n",
              "      <td>Change bots</td>\n",
              "      <td>Change the text into sound</td>\n",
              "      <td>Depress</td>\n",
              "      <td>#VALUE!</td>\n",
              "      <td>#VALUE!</td>\n",
              "      <td>#VALUE!</td>\n",
              "      <td>#VALUE!</td>\n",
              "      <td>#VALUE!</td>\n",
              "      <td>#VALUE!</td>\n",
              "      <td></td>\n",
              "      <td></td>\n",
              "      <td></td>\n",
              "      <td></td>\n",
              "      <td></td>\n",
              "      <td></td>\n",
              "      <td></td>\n",
              "      <td></td>\n",
              "      <td></td>\n",
              "      <td></td>\n",
              "      <td></td>\n",
              "      <td></td>\n",
              "      <td>ตอบเหมือนเพื่อนคุยกัน ไม่กวน</td>\n",
              "      <td>2022-01-28 19:04</td>\n",
              "      <td>2022-01-28 19:06</td>\n",
              "    </tr>\n",
              "  </tbody>\n",
              "</table>\n",
              "</div>\n",
              "      <button class=\"colab-df-convert\" onclick=\"convertToInteractive('df-fc9580bf-0195-4804-95cf-c0fadc91bd3f')\"\n",
              "              title=\"Convert this dataframe to an interactive table.\"\n",
              "              style=\"display:none;\">\n",
              "        \n",
              "  <svg xmlns=\"http://www.w3.org/2000/svg\" height=\"24px\"viewBox=\"0 0 24 24\"\n",
              "       width=\"24px\">\n",
              "    <path d=\"M0 0h24v24H0V0z\" fill=\"none\"/>\n",
              "    <path d=\"M18.56 5.44l.94 2.06.94-2.06 2.06-.94-2.06-.94-.94-2.06-.94 2.06-2.06.94zm-11 1L8.5 8.5l.94-2.06 2.06-.94-2.06-.94L8.5 2.5l-.94 2.06-2.06.94zm10 10l.94 2.06.94-2.06 2.06-.94-2.06-.94-.94-2.06-.94 2.06-2.06.94z\"/><path d=\"M17.41 7.96l-1.37-1.37c-.4-.4-.92-.59-1.43-.59-.52 0-1.04.2-1.43.59L10.3 9.45l-7.72 7.72c-.78.78-.78 2.05 0 2.83L4 21.41c.39.39.9.59 1.41.59.51 0 1.02-.2 1.41-.59l7.78-7.78 2.81-2.81c.8-.78.8-2.07 0-2.86zM5.41 20L4 18.59l7.72-7.72 1.47 1.35L5.41 20z\"/>\n",
              "  </svg>\n",
              "      </button>\n",
              "      \n",
              "  <style>\n",
              "    .colab-df-container {\n",
              "      display:flex;\n",
              "      flex-wrap:wrap;\n",
              "      gap: 12px;\n",
              "    }\n",
              "\n",
              "    .colab-df-convert {\n",
              "      background-color: #E8F0FE;\n",
              "      border: none;\n",
              "      border-radius: 50%;\n",
              "      cursor: pointer;\n",
              "      display: none;\n",
              "      fill: #1967D2;\n",
              "      height: 32px;\n",
              "      padding: 0 0 0 0;\n",
              "      width: 32px;\n",
              "    }\n",
              "\n",
              "    .colab-df-convert:hover {\n",
              "      background-color: #E2EBFA;\n",
              "      box-shadow: 0px 1px 2px rgba(60, 64, 67, 0.3), 0px 1px 3px 1px rgba(60, 64, 67, 0.15);\n",
              "      fill: #174EA6;\n",
              "    }\n",
              "\n",
              "    [theme=dark] .colab-df-convert {\n",
              "      background-color: #3B4455;\n",
              "      fill: #D2E3FC;\n",
              "    }\n",
              "\n",
              "    [theme=dark] .colab-df-convert:hover {\n",
              "      background-color: #434B5C;\n",
              "      box-shadow: 0px 1px 3px 1px rgba(0, 0, 0, 0.15);\n",
              "      filter: drop-shadow(0px 1px 2px rgba(0, 0, 0, 0.3));\n",
              "      fill: #FFFFFF;\n",
              "    }\n",
              "  </style>\n",
              "\n",
              "      <script>\n",
              "        const buttonEl =\n",
              "          document.querySelector('#df-fc9580bf-0195-4804-95cf-c0fadc91bd3f button.colab-df-convert');\n",
              "        buttonEl.style.display =\n",
              "          google.colab.kernel.accessAllowed ? 'block' : 'none';\n",
              "\n",
              "        async function convertToInteractive(key) {\n",
              "          const element = document.querySelector('#df-fc9580bf-0195-4804-95cf-c0fadc91bd3f');\n",
              "          const dataTable =\n",
              "            await google.colab.kernel.invokeFunction('convertToInteractive',\n",
              "                                                     [key], {});\n",
              "          if (!dataTable) return;\n",
              "\n",
              "          const docLinkHtml = 'Like what you see? Visit the ' +\n",
              "            '<a target=\"_blank\" href=https://colab.research.google.com/notebooks/data_table.ipynb>data table notebook</a>'\n",
              "            + ' to learn more about interactive tables.';\n",
              "          element.innerHTML = '';\n",
              "          dataTable['output_type'] = 'display_data';\n",
              "          await google.colab.output.renderOutput(dataTable, element);\n",
              "          const docLink = document.createElement('div');\n",
              "          docLink.innerHTML = docLinkHtml;\n",
              "          element.appendChild(docLink);\n",
              "        }\n",
              "      </script>\n",
              "    </div>\n",
              "  </div>\n",
              "  "
            ],
            "text/plain": [
              "0 SNO                               P1  ...          START_AT            END_AT\n",
              "1   1          Is an elementary school  ...                                    \n",
              "2   2  Is a junior high school student  ...  2022-01-28 19:04  2022-01-28 19:05\n",
              "3   3  Is a junior high school student  ...  2022-01-28 19:04  2022-01-28 19:05\n",
              "4   4  Is a junior high school student  ...  2022-01-28 19:04  2022-01-28 19:06\n",
              "5   5  Is a junior high school student  ...  2022-01-28 19:04  2022-01-28 19:06\n",
              "\n",
              "[5 rows x 26 columns]"
            ]
          },
          "metadata": {},
          "execution_count": 6
        }
      ]
    },
    {
      "cell_type": "code",
      "source": [
        "df.tail()"
      ],
      "metadata": {
        "colab": {
          "base_uri": "https://localhost:8080/",
          "height": 738
        },
        "id": "DyULBXPq58m9",
        "outputId": "c494f924-6ff4-487a-d6c6-002018ed4a5b"
      },
      "execution_count": 7,
      "outputs": [
        {
          "output_type": "execute_result",
          "data": {
            "text/html": [
              "\n",
              "  <div id=\"df-b88df645-694b-4081-8054-74a57a8eab61\">\n",
              "    <div class=\"colab-df-container\">\n",
              "      <div>\n",
              "<style scoped>\n",
              "    .dataframe tbody tr th:only-of-type {\n",
              "        vertical-align: middle;\n",
              "    }\n",
              "\n",
              "    .dataframe tbody tr th {\n",
              "        vertical-align: top;\n",
              "    }\n",
              "\n",
              "    .dataframe thead th {\n",
              "        text-align: right;\n",
              "    }\n",
              "</style>\n",
              "<table border=\"1\" class=\"dataframe\">\n",
              "  <thead>\n",
              "    <tr style=\"text-align: right;\">\n",
              "      <th></th>\n",
              "      <th>SNO</th>\n",
              "      <th>P1</th>\n",
              "      <th>P2</th>\n",
              "      <th>P3</th>\n",
              "      <th>P4</th>\n",
              "      <th>P5.1</th>\n",
              "      <th>P5.2</th>\n",
              "      <th>P5.3</th>\n",
              "      <th>P5.4</th>\n",
              "      <th>P5.5</th>\n",
              "      <th>P5.6</th>\n",
              "      <th>P5.7</th>\n",
              "      <th>P5.8</th>\n",
              "      <th>P5.9</th>\n",
              "      <th>P6.1</th>\n",
              "      <th>P6.2</th>\n",
              "      <th>P6.3</th>\n",
              "      <th>P6.4</th>\n",
              "      <th>P6.5</th>\n",
              "      <th>P6.6</th>\n",
              "      <th>P6.7</th>\n",
              "      <th>P6.8</th>\n",
              "      <th>P6.9</th>\n",
              "      <th>P7.1</th>\n",
              "      <th>START_AT</th>\n",
              "      <th>END_AT</th>\n",
              "    </tr>\n",
              "  </thead>\n",
              "  <tbody>\n",
              "    <tr>\n",
              "      <th>32029</th>\n",
              "      <td>32029</td>\n",
              "      <td>Is a junior high school student</td>\n",
              "      <td>Private bots</td>\n",
              "      <td>Knowledge game</td>\n",
              "      <td>Change the text into sound</td>\n",
              "      <td>#VALUE!</td>\n",
              "      <td>#VALUE!</td>\n",
              "      <td>#VALUE!</td>\n",
              "      <td>Depress</td>\n",
              "      <td>#VALUE!</td>\n",
              "      <td>#VALUE!</td>\n",
              "      <td></td>\n",
              "      <td></td>\n",
              "      <td></td>\n",
              "      <td></td>\n",
              "      <td></td>\n",
              "      <td></td>\n",
              "      <td></td>\n",
              "      <td></td>\n",
              "      <td></td>\n",
              "      <td></td>\n",
              "      <td></td>\n",
              "      <td></td>\n",
              "      <td>อยากมห้บอทตอบแชทไว</td>\n",
              "      <td>2022-01-31 23:23</td>\n",
              "      <td>2022-01-31 23:25</td>\n",
              "    </tr>\n",
              "    <tr>\n",
              "      <th>32030</th>\n",
              "      <td>32030</td>\n",
              "      <td>Is a high school student</td>\n",
              "      <td>Private bots</td>\n",
              "      <td>Depress</td>\n",
              "      <td>Change the text into sound</td>\n",
              "      <td>#VALUE!</td>\n",
              "      <td>#VALUE!</td>\n",
              "      <td>#VALUE!</td>\n",
              "      <td>#VALUE!</td>\n",
              "      <td>#VALUE!</td>\n",
              "      <td>Request ... (Captions, images, quotes, numbers...</td>\n",
              "      <td></td>\n",
              "      <td></td>\n",
              "      <td></td>\n",
              "      <td></td>\n",
              "      <td></td>\n",
              "      <td></td>\n",
              "      <td></td>\n",
              "      <td></td>\n",
              "      <td></td>\n",
              "      <td></td>\n",
              "      <td></td>\n",
              "      <td></td>\n",
              "      <td>ไม่มีแล้วคั้บน้องบอทน่ารักมาก</td>\n",
              "      <td>2022-01-31 23:31</td>\n",
              "      <td>2022-01-31 23:32</td>\n",
              "    </tr>\n",
              "    <tr>\n",
              "      <th>32031</th>\n",
              "      <td>32031</td>\n",
              "      <td>Is a junior high school student</td>\n",
              "      <td>Change the text into sound</td>\n",
              "      <td>Change the text into sound</td>\n",
              "      <td>Change bots</td>\n",
              "      <td>#VALUE!</td>\n",
              "      <td>#VALUE!</td>\n",
              "      <td>#VALUE!</td>\n",
              "      <td>#VALUE!</td>\n",
              "      <td>#VALUE!</td>\n",
              "      <td>#VALUE!</td>\n",
              "      <td></td>\n",
              "      <td></td>\n",
              "      <td></td>\n",
              "      <td></td>\n",
              "      <td></td>\n",
              "      <td></td>\n",
              "      <td></td>\n",
              "      <td></td>\n",
              "      <td></td>\n",
              "      <td></td>\n",
              "      <td></td>\n",
              "      <td></td>\n",
              "      <td>พัฒนาตรงที่บอทน้อยอ่านแล้วตอบบ้างไม่ตอบบ้าง</td>\n",
              "      <td>2022-01-31 23:43</td>\n",
              "      <td>2022-01-31 23:44</td>\n",
              "    </tr>\n",
              "    <tr>\n",
              "      <th>32032</th>\n",
              "      <td>32032</td>\n",
              "      <td>Is a high school student</td>\n",
              "      <td>Contact Boratoon</td>\n",
              "      <td>Private bots</td>\n",
              "      <td>Request ... (Captions, images, quotes, numbers...</td>\n",
              "      <td>#VALUE!</td>\n",
              "      <td>#VALUE!</td>\n",
              "      <td>#VALUE!</td>\n",
              "      <td>Depress</td>\n",
              "      <td>#VALUE!</td>\n",
              "      <td>#VALUE!</td>\n",
              "      <td></td>\n",
              "      <td></td>\n",
              "      <td></td>\n",
              "      <td></td>\n",
              "      <td></td>\n",
              "      <td></td>\n",
              "      <td></td>\n",
              "      <td></td>\n",
              "      <td></td>\n",
              "      <td></td>\n",
              "      <td></td>\n",
              "      <td></td>\n",
              "      <td>ตอบเร็วอย่าเมินเเชทอย่าอ่านไม่ตอบ</td>\n",
              "      <td>2022-01-31 23:43</td>\n",
              "      <td>2022-01-31 23:45</td>\n",
              "    </tr>\n",
              "    <tr>\n",
              "      <th>32033</th>\n",
              "      <td>32033</td>\n",
              "      <td>Is a university student</td>\n",
              "      <td>Depress</td>\n",
              "      <td>Depress</td>\n",
              "      <td>Private bots</td>\n",
              "      <td>Change the text into sound</td>\n",
              "      <td>#VALUE!</td>\n",
              "      <td>Change bots</td>\n",
              "      <td>#VALUE!</td>\n",
              "      <td>Contact Boratoon</td>\n",
              "      <td>Request ... (Captions, images, quotes, numbers...</td>\n",
              "      <td></td>\n",
              "      <td></td>\n",
              "      <td></td>\n",
              "      <td></td>\n",
              "      <td></td>\n",
              "      <td></td>\n",
              "      <td></td>\n",
              "      <td></td>\n",
              "      <td></td>\n",
              "      <td></td>\n",
              "      <td></td>\n",
              "      <td></td>\n",
              "      <td>บางทีบอทน้อยก็เเอบอ่านเเต่ไม่ตอบเเชทเหมือนกันน...</td>\n",
              "      <td>2022-01-31 23:48</td>\n",
              "      <td>2022-01-31 23:51</td>\n",
              "    </tr>\n",
              "  </tbody>\n",
              "</table>\n",
              "</div>\n",
              "      <button class=\"colab-df-convert\" onclick=\"convertToInteractive('df-b88df645-694b-4081-8054-74a57a8eab61')\"\n",
              "              title=\"Convert this dataframe to an interactive table.\"\n",
              "              style=\"display:none;\">\n",
              "        \n",
              "  <svg xmlns=\"http://www.w3.org/2000/svg\" height=\"24px\"viewBox=\"0 0 24 24\"\n",
              "       width=\"24px\">\n",
              "    <path d=\"M0 0h24v24H0V0z\" fill=\"none\"/>\n",
              "    <path d=\"M18.56 5.44l.94 2.06.94-2.06 2.06-.94-2.06-.94-.94-2.06-.94 2.06-2.06.94zm-11 1L8.5 8.5l.94-2.06 2.06-.94-2.06-.94L8.5 2.5l-.94 2.06-2.06.94zm10 10l.94 2.06.94-2.06 2.06-.94-2.06-.94-.94-2.06-.94 2.06-2.06.94z\"/><path d=\"M17.41 7.96l-1.37-1.37c-.4-.4-.92-.59-1.43-.59-.52 0-1.04.2-1.43.59L10.3 9.45l-7.72 7.72c-.78.78-.78 2.05 0 2.83L4 21.41c.39.39.9.59 1.41.59.51 0 1.02-.2 1.41-.59l7.78-7.78 2.81-2.81c.8-.78.8-2.07 0-2.86zM5.41 20L4 18.59l7.72-7.72 1.47 1.35L5.41 20z\"/>\n",
              "  </svg>\n",
              "      </button>\n",
              "      \n",
              "  <style>\n",
              "    .colab-df-container {\n",
              "      display:flex;\n",
              "      flex-wrap:wrap;\n",
              "      gap: 12px;\n",
              "    }\n",
              "\n",
              "    .colab-df-convert {\n",
              "      background-color: #E8F0FE;\n",
              "      border: none;\n",
              "      border-radius: 50%;\n",
              "      cursor: pointer;\n",
              "      display: none;\n",
              "      fill: #1967D2;\n",
              "      height: 32px;\n",
              "      padding: 0 0 0 0;\n",
              "      width: 32px;\n",
              "    }\n",
              "\n",
              "    .colab-df-convert:hover {\n",
              "      background-color: #E2EBFA;\n",
              "      box-shadow: 0px 1px 2px rgba(60, 64, 67, 0.3), 0px 1px 3px 1px rgba(60, 64, 67, 0.15);\n",
              "      fill: #174EA6;\n",
              "    }\n",
              "\n",
              "    [theme=dark] .colab-df-convert {\n",
              "      background-color: #3B4455;\n",
              "      fill: #D2E3FC;\n",
              "    }\n",
              "\n",
              "    [theme=dark] .colab-df-convert:hover {\n",
              "      background-color: #434B5C;\n",
              "      box-shadow: 0px 1px 3px 1px rgba(0, 0, 0, 0.15);\n",
              "      filter: drop-shadow(0px 1px 2px rgba(0, 0, 0, 0.3));\n",
              "      fill: #FFFFFF;\n",
              "    }\n",
              "  </style>\n",
              "\n",
              "      <script>\n",
              "        const buttonEl =\n",
              "          document.querySelector('#df-b88df645-694b-4081-8054-74a57a8eab61 button.colab-df-convert');\n",
              "        buttonEl.style.display =\n",
              "          google.colab.kernel.accessAllowed ? 'block' : 'none';\n",
              "\n",
              "        async function convertToInteractive(key) {\n",
              "          const element = document.querySelector('#df-b88df645-694b-4081-8054-74a57a8eab61');\n",
              "          const dataTable =\n",
              "            await google.colab.kernel.invokeFunction('convertToInteractive',\n",
              "                                                     [key], {});\n",
              "          if (!dataTable) return;\n",
              "\n",
              "          const docLinkHtml = 'Like what you see? Visit the ' +\n",
              "            '<a target=\"_blank\" href=https://colab.research.google.com/notebooks/data_table.ipynb>data table notebook</a>'\n",
              "            + ' to learn more about interactive tables.';\n",
              "          element.innerHTML = '';\n",
              "          dataTable['output_type'] = 'display_data';\n",
              "          await google.colab.output.renderOutput(dataTable, element);\n",
              "          const docLink = document.createElement('div');\n",
              "          docLink.innerHTML = docLinkHtml;\n",
              "          element.appendChild(docLink);\n",
              "        }\n",
              "      </script>\n",
              "    </div>\n",
              "  </div>\n",
              "  "
            ],
            "text/plain": [
              "0        SNO  ...            END_AT\n",
              "32029  32029  ...  2022-01-31 23:25\n",
              "32030  32030  ...  2022-01-31 23:32\n",
              "32031  32031  ...  2022-01-31 23:44\n",
              "32032  32032  ...  2022-01-31 23:45\n",
              "32033  32033  ...  2022-01-31 23:51\n",
              "\n",
              "[5 rows x 26 columns]"
            ]
          },
          "metadata": {},
          "execution_count": 7
        }
      ]
    },
    {
      "cell_type": "code",
      "source": [
        "df.describe()"
      ],
      "metadata": {
        "colab": {
          "base_uri": "https://localhost:8080/",
          "height": 308
        },
        "id": "nrb_otJNbZoX",
        "outputId": "c65ab396-b17f-4bde-9033-ed243a6a7247"
      },
      "execution_count": 8,
      "outputs": [
        {
          "output_type": "execute_result",
          "data": {
            "text/html": [
              "\n",
              "  <div id=\"df-b07ec389-d64b-498a-b723-360165fc8753\">\n",
              "    <div class=\"colab-df-container\">\n",
              "      <div>\n",
              "<style scoped>\n",
              "    .dataframe tbody tr th:only-of-type {\n",
              "        vertical-align: middle;\n",
              "    }\n",
              "\n",
              "    .dataframe tbody tr th {\n",
              "        vertical-align: top;\n",
              "    }\n",
              "\n",
              "    .dataframe thead th {\n",
              "        text-align: right;\n",
              "    }\n",
              "</style>\n",
              "<table border=\"1\" class=\"dataframe\">\n",
              "  <thead>\n",
              "    <tr style=\"text-align: right;\">\n",
              "      <th></th>\n",
              "      <th>SNO</th>\n",
              "      <th>P1</th>\n",
              "      <th>P2</th>\n",
              "      <th>P3</th>\n",
              "      <th>P4</th>\n",
              "      <th>P5.1</th>\n",
              "      <th>P5.2</th>\n",
              "      <th>P5.3</th>\n",
              "      <th>P5.4</th>\n",
              "      <th>P5.5</th>\n",
              "      <th>P5.6</th>\n",
              "      <th>P5.7</th>\n",
              "      <th>P5.8</th>\n",
              "      <th>P5.9</th>\n",
              "      <th>P6.1</th>\n",
              "      <th>P6.2</th>\n",
              "      <th>P6.3</th>\n",
              "      <th>P6.4</th>\n",
              "      <th>P6.5</th>\n",
              "      <th>P6.6</th>\n",
              "      <th>P6.7</th>\n",
              "      <th>P6.8</th>\n",
              "      <th>P6.9</th>\n",
              "      <th>P7.1</th>\n",
              "      <th>START_AT</th>\n",
              "      <th>END_AT</th>\n",
              "    </tr>\n",
              "  </thead>\n",
              "  <tbody>\n",
              "    <tr>\n",
              "      <th>count</th>\n",
              "      <td>32033</td>\n",
              "      <td>32033</td>\n",
              "      <td>32033</td>\n",
              "      <td>32033</td>\n",
              "      <td>32033</td>\n",
              "      <td>32033</td>\n",
              "      <td>32033</td>\n",
              "      <td>32033</td>\n",
              "      <td>32033</td>\n",
              "      <td>32033</td>\n",
              "      <td>32033</td>\n",
              "      <td>32033</td>\n",
              "      <td>32033</td>\n",
              "      <td>32033</td>\n",
              "      <td>32033</td>\n",
              "      <td>32033</td>\n",
              "      <td>32033</td>\n",
              "      <td>32033</td>\n",
              "      <td>32033</td>\n",
              "      <td>32033</td>\n",
              "      <td>32033</td>\n",
              "      <td>32033</td>\n",
              "      <td>32033</td>\n",
              "      <td>32033</td>\n",
              "      <td>32033</td>\n",
              "      <td>32033</td>\n",
              "    </tr>\n",
              "    <tr>\n",
              "      <th>unique</th>\n",
              "      <td>32033</td>\n",
              "      <td>5</td>\n",
              "      <td>9</td>\n",
              "      <td>9</td>\n",
              "      <td>9</td>\n",
              "      <td>2</td>\n",
              "      <td>2</td>\n",
              "      <td>2</td>\n",
              "      <td>2</td>\n",
              "      <td>2</td>\n",
              "      <td>2</td>\n",
              "      <td>1</td>\n",
              "      <td>1</td>\n",
              "      <td>1</td>\n",
              "      <td>1</td>\n",
              "      <td>1</td>\n",
              "      <td>1</td>\n",
              "      <td>1</td>\n",
              "      <td>1</td>\n",
              "      <td>1</td>\n",
              "      <td>1</td>\n",
              "      <td>1</td>\n",
              "      <td>1</td>\n",
              "      <td>23696</td>\n",
              "      <td>2864</td>\n",
              "      <td>2890</td>\n",
              "    </tr>\n",
              "    <tr>\n",
              "      <th>top</th>\n",
              "      <td>1</td>\n",
              "      <td>Is a junior high school student</td>\n",
              "      <td>Private bots</td>\n",
              "      <td>Private bots</td>\n",
              "      <td>Change the text into sound</td>\n",
              "      <td>#VALUE!</td>\n",
              "      <td>#VALUE!</td>\n",
              "      <td>#VALUE!</td>\n",
              "      <td>#VALUE!</td>\n",
              "      <td>#VALUE!</td>\n",
              "      <td>#VALUE!</td>\n",
              "      <td></td>\n",
              "      <td></td>\n",
              "      <td></td>\n",
              "      <td></td>\n",
              "      <td></td>\n",
              "      <td></td>\n",
              "      <td></td>\n",
              "      <td></td>\n",
              "      <td></td>\n",
              "      <td></td>\n",
              "      <td></td>\n",
              "      <td></td>\n",
              "      <td>ไม่มี</td>\n",
              "      <td>2022-01-28 19:05</td>\n",
              "      <td>2022-01-28 19:08</td>\n",
              "    </tr>\n",
              "    <tr>\n",
              "      <th>freq</th>\n",
              "      <td>1</td>\n",
              "      <td>13313</td>\n",
              "      <td>12529</td>\n",
              "      <td>6927</td>\n",
              "      <td>5405</td>\n",
              "      <td>22465</td>\n",
              "      <td>27767</td>\n",
              "      <td>25772</td>\n",
              "      <td>20148</td>\n",
              "      <td>22465</td>\n",
              "      <td>22886</td>\n",
              "      <td>32033</td>\n",
              "      <td>32033</td>\n",
              "      <td>32033</td>\n",
              "      <td>32033</td>\n",
              "      <td>32033</td>\n",
              "      <td>32033</td>\n",
              "      <td>32033</td>\n",
              "      <td>32033</td>\n",
              "      <td>32033</td>\n",
              "      <td>32033</td>\n",
              "      <td>32033</td>\n",
              "      <td>32033</td>\n",
              "      <td>2028</td>\n",
              "      <td>1497</td>\n",
              "      <td>1346</td>\n",
              "    </tr>\n",
              "  </tbody>\n",
              "</table>\n",
              "</div>\n",
              "      <button class=\"colab-df-convert\" onclick=\"convertToInteractive('df-b07ec389-d64b-498a-b723-360165fc8753')\"\n",
              "              title=\"Convert this dataframe to an interactive table.\"\n",
              "              style=\"display:none;\">\n",
              "        \n",
              "  <svg xmlns=\"http://www.w3.org/2000/svg\" height=\"24px\"viewBox=\"0 0 24 24\"\n",
              "       width=\"24px\">\n",
              "    <path d=\"M0 0h24v24H0V0z\" fill=\"none\"/>\n",
              "    <path d=\"M18.56 5.44l.94 2.06.94-2.06 2.06-.94-2.06-.94-.94-2.06-.94 2.06-2.06.94zm-11 1L8.5 8.5l.94-2.06 2.06-.94-2.06-.94L8.5 2.5l-.94 2.06-2.06.94zm10 10l.94 2.06.94-2.06 2.06-.94-2.06-.94-.94-2.06-.94 2.06-2.06.94z\"/><path d=\"M17.41 7.96l-1.37-1.37c-.4-.4-.92-.59-1.43-.59-.52 0-1.04.2-1.43.59L10.3 9.45l-7.72 7.72c-.78.78-.78 2.05 0 2.83L4 21.41c.39.39.9.59 1.41.59.51 0 1.02-.2 1.41-.59l7.78-7.78 2.81-2.81c.8-.78.8-2.07 0-2.86zM5.41 20L4 18.59l7.72-7.72 1.47 1.35L5.41 20z\"/>\n",
              "  </svg>\n",
              "      </button>\n",
              "      \n",
              "  <style>\n",
              "    .colab-df-container {\n",
              "      display:flex;\n",
              "      flex-wrap:wrap;\n",
              "      gap: 12px;\n",
              "    }\n",
              "\n",
              "    .colab-df-convert {\n",
              "      background-color: #E8F0FE;\n",
              "      border: none;\n",
              "      border-radius: 50%;\n",
              "      cursor: pointer;\n",
              "      display: none;\n",
              "      fill: #1967D2;\n",
              "      height: 32px;\n",
              "      padding: 0 0 0 0;\n",
              "      width: 32px;\n",
              "    }\n",
              "\n",
              "    .colab-df-convert:hover {\n",
              "      background-color: #E2EBFA;\n",
              "      box-shadow: 0px 1px 2px rgba(60, 64, 67, 0.3), 0px 1px 3px 1px rgba(60, 64, 67, 0.15);\n",
              "      fill: #174EA6;\n",
              "    }\n",
              "\n",
              "    [theme=dark] .colab-df-convert {\n",
              "      background-color: #3B4455;\n",
              "      fill: #D2E3FC;\n",
              "    }\n",
              "\n",
              "    [theme=dark] .colab-df-convert:hover {\n",
              "      background-color: #434B5C;\n",
              "      box-shadow: 0px 1px 3px 1px rgba(0, 0, 0, 0.15);\n",
              "      filter: drop-shadow(0px 1px 2px rgba(0, 0, 0, 0.3));\n",
              "      fill: #FFFFFF;\n",
              "    }\n",
              "  </style>\n",
              "\n",
              "      <script>\n",
              "        const buttonEl =\n",
              "          document.querySelector('#df-b07ec389-d64b-498a-b723-360165fc8753 button.colab-df-convert');\n",
              "        buttonEl.style.display =\n",
              "          google.colab.kernel.accessAllowed ? 'block' : 'none';\n",
              "\n",
              "        async function convertToInteractive(key) {\n",
              "          const element = document.querySelector('#df-b07ec389-d64b-498a-b723-360165fc8753');\n",
              "          const dataTable =\n",
              "            await google.colab.kernel.invokeFunction('convertToInteractive',\n",
              "                                                     [key], {});\n",
              "          if (!dataTable) return;\n",
              "\n",
              "          const docLinkHtml = 'Like what you see? Visit the ' +\n",
              "            '<a target=\"_blank\" href=https://colab.research.google.com/notebooks/data_table.ipynb>data table notebook</a>'\n",
              "            + ' to learn more about interactive tables.';\n",
              "          element.innerHTML = '';\n",
              "          dataTable['output_type'] = 'display_data';\n",
              "          await google.colab.output.renderOutput(dataTable, element);\n",
              "          const docLink = document.createElement('div');\n",
              "          docLink.innerHTML = docLinkHtml;\n",
              "          element.appendChild(docLink);\n",
              "        }\n",
              "      </script>\n",
              "    </div>\n",
              "  </div>\n",
              "  "
            ],
            "text/plain": [
              "0         SNO  ...            END_AT\n",
              "count   32033  ...             32033\n",
              "unique  32033  ...              2890\n",
              "top         1  ...  2022-01-28 19:08\n",
              "freq        1  ...              1346\n",
              "\n",
              "[4 rows x 26 columns]"
            ]
          },
          "metadata": {},
          "execution_count": 8
        }
      ]
    },
    {
      "cell_type": "code",
      "source": [
        "df.info()"
      ],
      "metadata": {
        "colab": {
          "base_uri": "https://localhost:8080/"
        },
        "id": "b53X4545cmBn",
        "outputId": "e0e653aa-5a5d-433e-f25d-67a005a126eb"
      },
      "execution_count": 24,
      "outputs": [
        {
          "output_type": "stream",
          "name": "stdout",
          "text": [
            "<class 'pandas.core.frame.DataFrame'>\n",
            "RangeIndex: 32033 entries, 1 to 32033\n",
            "Data columns (total 26 columns):\n",
            " #   Column    Non-Null Count  Dtype \n",
            "---  ------    --------------  ----- \n",
            " 0   SNO       32033 non-null  object\n",
            " 1   P1        32033 non-null  object\n",
            " 2   P2        32033 non-null  object\n",
            " 3   P3        32033 non-null  object\n",
            " 4   P4        32033 non-null  object\n",
            " 5   P5.1      32033 non-null  object\n",
            " 6   P5.2      32033 non-null  object\n",
            " 7   P5.3      32033 non-null  object\n",
            " 8   P5.4      32033 non-null  object\n",
            " 9   P5.5      32033 non-null  object\n",
            " 10  P5.6      32033 non-null  object\n",
            " 11  P5.7      32033 non-null  object\n",
            " 12  P5.8      32033 non-null  object\n",
            " 13  P5.9      32033 non-null  object\n",
            " 14  P6.1      32033 non-null  object\n",
            " 15  P6.2      32033 non-null  object\n",
            " 16  P6.3      32033 non-null  object\n",
            " 17  P6.4      32033 non-null  object\n",
            " 18  P6.5      32033 non-null  object\n",
            " 19  P6.6      32033 non-null  object\n",
            " 20  P6.7      32033 non-null  object\n",
            " 21  P6.8      32033 non-null  object\n",
            " 22  P6.9      32033 non-null  object\n",
            " 23  P7.1      32033 non-null  object\n",
            " 24  START_AT  32033 non-null  object\n",
            " 25  END_AT    32033 non-null  object\n",
            "dtypes: object(26)\n",
            "memory usage: 6.4+ MB\n"
          ]
        }
      ]
    },
    {
      "cell_type": "code",
      "source": [
        "df.shape"
      ],
      "metadata": {
        "colab": {
          "base_uri": "https://localhost:8080/"
        },
        "id": "X-hYOm7kdrk1",
        "outputId": "1862d07e-fbfb-4f3a-c294-b11ef9ae14e2"
      },
      "execution_count": 25,
      "outputs": [
        {
          "output_type": "execute_result",
          "data": {
            "text/plain": [
              "(32033, 26)"
            ]
          },
          "metadata": {},
          "execution_count": 25
        }
      ]
    },
    {
      "cell_type": "markdown",
      "source": [
        "# **DATA CLEANING**\n",
        "\n",
        "\n",
        "*   Extract Words to display count\n",
        "*   Remove #VALUE!\n",
        "\n",
        "\n",
        "\n"
      ],
      "metadata": {
        "id": "aXte-kuicrcb"
      }
    },
    {
      "cell_type": "code",
      "source": [
        "import re as re\n",
        "def search_words(text):\n",
        "    result = re.findall(r'\\b[high school|junior|elementary|university|Work|student]+\\b', text)\n",
        "    return \" \".join(result)"
      ],
      "metadata": {
        "id": "SD3gmDVHziNz"
      },
      "execution_count": 9,
      "outputs": []
    },
    {
      "cell_type": "code",
      "source": [
        "df['P1']=df['P1'].apply(lambda x : search_words(x))\n",
        "print(df)"
      ],
      "metadata": {
        "colab": {
          "base_uri": "https://localhost:8080/"
        },
        "id": "tT3f6_DD570I",
        "outputId": "f1ead536-a70e-4377-937e-fa0d38844ff0"
      },
      "execution_count": 10,
      "outputs": [
        {
          "output_type": "stream",
          "name": "stdout",
          "text": [
            "0        SNO                             P1  ...          START_AT            END_AT\n",
            "1          1           an elementary school  ...                                    \n",
            "2          2   a junior high school student  ...  2022-01-28 19:04  2022-01-28 19:05\n",
            "3          3   a junior high school student  ...  2022-01-28 19:04  2022-01-28 19:05\n",
            "4          4   a junior high school student  ...  2022-01-28 19:04  2022-01-28 19:06\n",
            "5          5   a junior high school student  ...  2022-01-28 19:04  2022-01-28 19:06\n",
            "...      ...                            ...  ...               ...               ...\n",
            "32029  32029   a junior high school student  ...  2022-01-31 23:23  2022-01-31 23:25\n",
            "32030  32030          a high school student  ...  2022-01-31 23:31  2022-01-31 23:32\n",
            "32031  32031   a junior high school student  ...  2022-01-31 23:43  2022-01-31 23:44\n",
            "32032  32032          a high school student  ...  2022-01-31 23:43  2022-01-31 23:45\n",
            "32033  32033           a university student  ...  2022-01-31 23:48  2022-01-31 23:51\n",
            "\n",
            "[32033 rows x 26 columns]\n"
          ]
        }
      ]
    },
    {
      "cell_type": "markdown",
      "source": [
        "# **BASIC ANALYTICS**\n",
        "\n",
        "\n",
        "\n",
        "\n",
        "*   BAR GRAPH FOR EACH COLUMN\n",
        "*   COUNT VALUES\n",
        "\n",
        "\n",
        "\n",
        "\n",
        "\n",
        "\n",
        "\n"
      ],
      "metadata": {
        "id": "fU5Cqd6Bc6Sp"
      }
    },
    {
      "cell_type": "code",
      "source": [
        "demographics = df['P1'].value_counts()\n",
        "demographics.plot.bar()"
      ],
      "metadata": {
        "colab": {
          "base_uri": "https://localhost:8080/",
          "height": 416
        },
        "id": "IbzI5qbq4CGS",
        "outputId": "c38c1ae2-9d20-43e0-8d8b-fc39a9b6c45b"
      },
      "execution_count": 11,
      "outputs": [
        {
          "output_type": "execute_result",
          "data": {
            "text/plain": [
              "<matplotlib.axes._subplots.AxesSubplot at 0x7f56c335ce50>"
            ]
          },
          "metadata": {},
          "execution_count": 11
        },
        {
          "output_type": "display_data",
          "data": {
            "image/png": "[encoded data removed]",
            "text/plain": [
              "<Figure size 432x288 with 1 Axes>"
            ]
          },
          "metadata": {
            "needs_background": "light"
          }
        }
      ]
    },
    {
      "cell_type": "code",
      "source": [
        "df['P1'].value_counts()"
      ],
      "metadata": {
        "colab": {
          "base_uri": "https://localhost:8080/"
        },
        "id": "L16_8l1G9tdE",
        "outputId": "85dd7287-22cf-4868-af76-4d8ecc5b62ab"
      },
      "execution_count": 12,
      "outputs": [
        {
          "output_type": "execute_result",
          "data": {
            "text/plain": [
              " a junior high school student    13313\n",
              " an elementary school            12458\n",
              " a high school student            4228\n",
              "Work                              1079\n",
              " a university student              955\n",
              "Name: P1, dtype: int64"
            ]
          },
          "metadata": {},
          "execution_count": 12
        }
      ]
    },
    {
      "cell_type": "code",
      "source": [
        "most_choice = df['P2'].value_counts()\n",
        "most_choice.plot.bar()"
      ],
      "metadata": {
        "colab": {
          "base_uri": "https://localhost:8080/",
          "height": 538
        },
        "id": "ijktu6BA-4QU",
        "outputId": "28a35fc3-dffe-4a43-c83e-6b5ff345b5da"
      },
      "execution_count": 13,
      "outputs": [
        {
          "output_type": "execute_result",
          "data": {
            "text/plain": [
              "<matplotlib.axes._subplots.AxesSubplot at 0x7f56c32bb450>"
            ]
          },
          "metadata": {},
          "execution_count": 13
        },
        {
          "output_type": "display_data",
          "data": {
            "image/png": "[encoded data removed]",
            "text/plain": [
              "<Figure size 432x288 with 1 Axes>"
            ]
          },
          "metadata": {
            "needs_background": "light"
          }
        }
      ]
    },
    {
      "cell_type": "code",
      "source": [
        "df['P2'].value_counts()"
      ],
      "metadata": {
        "colab": {
          "base_uri": "https://localhost:8080/"
        },
        "id": "K5DNt8efKF-Y",
        "outputId": "22cf902a-7baa-4893-b7d1-11b8a5ac3aab"
      },
      "execution_count": 14,
      "outputs": [
        {
          "output_type": "execute_result",
          "data": {
            "text/plain": [
              "Private bots                                             12529\n",
              "Change the text into sound                                5888\n",
              "Request ... (Captions, images, quotes, numbers, etc.)     4747\n",
              "Contact Boratoon                                          3424\n",
              "Depress                                                   1989\n",
              "Change bots                                               1206\n",
              "Horoscope                                                  874\n",
              "Knowledge game                                             779\n",
              "translate language                                         597\n",
              "Name: P2, dtype: int64"
            ]
          },
          "metadata": {},
          "execution_count": 14
        }
      ]
    },
    {
      "cell_type": "code",
      "source": [
        "second_choice = df['P3'].value_counts()\n",
        "second_choice.plot.bar()"
      ],
      "metadata": {
        "colab": {
          "base_uri": "https://localhost:8080/",
          "height": 538
        },
        "id": "m-Smvl0tKJR9",
        "outputId": "981d8533-8163-4404-d538-aee12ab9a559"
      },
      "execution_count": 15,
      "outputs": [
        {
          "output_type": "execute_result",
          "data": {
            "text/plain": [
              "<matplotlib.axes._subplots.AxesSubplot at 0x7f56c2e06ad0>"
            ]
          },
          "metadata": {},
          "execution_count": 15
        },
        {
          "output_type": "display_data",
          "data": {
            "image/png": "[encoded data removed]",
            "text/plain": [
              "<Figure size 432x288 with 1 Axes>"
            ]
          },
          "metadata": {
            "needs_background": "light"
          }
        }
      ]
    },
    {
      "cell_type": "code",
      "source": [
        "df['P3'].value_counts()"
      ],
      "metadata": {
        "colab": {
          "base_uri": "https://localhost:8080/"
        },
        "id": "gEpJ6Fq_MDld",
        "outputId": "34cbe964-41c2-4c5d-8e04-bbf8f69990d3"
      },
      "execution_count": 16,
      "outputs": [
        {
          "output_type": "execute_result",
          "data": {
            "text/plain": [
              "Private bots                                             6927\n",
              "Change the text into sound                               6404\n",
              "Request ... (Captions, images, quotes, numbers, etc.)    5362\n",
              "Change bots                                              3806\n",
              "Contact Boratoon                                         2969\n",
              "Depress                                                  2659\n",
              "Horoscope                                                1438\n",
              "Knowledge game                                           1302\n",
              "translate language                                       1166\n",
              "Name: P3, dtype: int64"
            ]
          },
          "metadata": {},
          "execution_count": 16
        }
      ]
    },
    {
      "cell_type": "code",
      "source": [
        "third_choice = df['P4'].value_counts()\n",
        "third_choice.plot.bar()"
      ],
      "metadata": {
        "colab": {
          "base_uri": "https://localhost:8080/",
          "height": 538
        },
        "id": "fdTf-nJaX4te",
        "outputId": "6ce28a23-9e06-4740-8cc2-f1d6ef56b8c0"
      },
      "execution_count": 17,
      "outputs": [
        {
          "output_type": "execute_result",
          "data": {
            "text/plain": [
              "<matplotlib.axes._subplots.AxesSubplot at 0x7f56c2d17f50>"
            ]
          },
          "metadata": {},
          "execution_count": 17
        },
        {
          "output_type": "display_data",
          "data": {
            "image/png": "[encoded data removed]",
            "text/plain": [
              "<Figure size 432x288 with 1 Axes>"
            ]
          },
          "metadata": {
            "needs_background": "light"
          }
        }
      ]
    },
    {
      "cell_type": "code",
      "source": [
        "df['P4'].value_counts()"
      ],
      "metadata": {
        "colab": {
          "base_uri": "https://localhost:8080/"
        },
        "id": "UP-J2m8kMGWk",
        "outputId": "159148c9-5305-4851-9586-8e1d808865b4"
      },
      "execution_count": 18,
      "outputs": [
        {
          "output_type": "execute_result",
          "data": {
            "text/plain": [
              "Change the text into sound                               5405\n",
              "Request ... (Captions, images, quotes, numbers, etc.)    5051\n",
              "Private bots                                             4606\n",
              "Change bots                                              4154\n",
              "Depress                                                  3265\n",
              "Contact Boratoon                                         3077\n",
              "Knowledge game                                           2354\n",
              "translate language                                       2215\n",
              "Horoscope                                                1906\n",
              "Name: P4, dtype: int64"
            ]
          },
          "metadata": {},
          "execution_count": 18
        }
      ]
    },
    {
      "cell_type": "code",
      "source": [
        "least_choice = df['P5.1'].value_counts()\n",
        "least_choice.plot.bar()"
      ],
      "metadata": {
        "colab": {
          "base_uri": "https://localhost:8080/",
          "height": 409
        },
        "id": "qzGPsNrKXqxp",
        "outputId": "79c5752e-b576-4fa6-b4c8-0aecdb62fe47"
      },
      "execution_count": 19,
      "outputs": [
        {
          "output_type": "execute_result",
          "data": {
            "text/plain": [
              "<matplotlib.axes._subplots.AxesSubplot at 0x7f56c2d05710>"
            ]
          },
          "metadata": {},
          "execution_count": 19
        },
        {
          "output_type": "display_data",
          "data": {
            "image/png": "[encoded data removed]",
            "text/plain": [
              "<Figure size 432x288 with 1 Axes>"
            ]
          },
          "metadata": {
            "needs_background": "light"
          }
        }
      ]
    },
    {
      "cell_type": "code",
      "source": [
        "least_choice = df['P5.2'].value_counts()\n",
        "least_choice.plot.bar()"
      ],
      "metadata": {
        "colab": {
          "base_uri": "https://localhost:8080/",
          "height": 332
        },
        "id": "AL65ljQLYLSO",
        "outputId": "ef96543d-a6c1-43b4-b3bd-2605d3ddd05d"
      },
      "execution_count": 20,
      "outputs": [
        {
          "output_type": "execute_result",
          "data": {
            "text/plain": [
              "<matplotlib.axes._subplots.AxesSubplot at 0x7f56c2c6bb10>"
            ]
          },
          "metadata": {},
          "execution_count": 20
        },
        {
          "output_type": "display_data",
          "data": {
            "image/png": "[encoded data removed]",
            "text/plain": [
              "<Figure size 432x288 with 1 Axes>"
            ]
          },
          "metadata": {
            "needs_background": "light"
          }
        }
      ]
    },
    {
      "cell_type": "code",
      "source": [
        "least_choice = df['P5.3'].value_counts()\n",
        "least_choice.plot.bar()"
      ],
      "metadata": {
        "colab": {
          "base_uri": "https://localhost:8080/",
          "height": 336
        },
        "id": "vWgHMwl-aedm",
        "outputId": "8120e607-a363-40ef-c0f2-1a46557cb593"
      },
      "execution_count": 21,
      "outputs": [
        {
          "output_type": "execute_result",
          "data": {
            "text/plain": [
              "<matplotlib.axes._subplots.AxesSubplot at 0x7f56c2bee1d0>"
            ]
          },
          "metadata": {},
          "execution_count": 21
        },
        {
          "output_type": "display_data",
          "data": {
            "image/png": "[encoded data removed]",
            "text/plain": [
              "<Figure size 432x288 with 1 Axes>"
            ]
          },
          "metadata": {
            "needs_background": "light"
          }
        }
      ]
    },
    {
      "cell_type": "code",
      "source": [
        "least_choice = df['P5.4'].value_counts()\n",
        "least_choice.plot.bar()"
      ],
      "metadata": {
        "colab": {
          "base_uri": "https://localhost:8080/",
          "height": 316
        },
        "id": "5PyHegkTakK9",
        "outputId": "ddf57f45-e53a-43ec-ac5c-e78296666cdf"
      },
      "execution_count": 22,
      "outputs": [
        {
          "output_type": "execute_result",
          "data": {
            "text/plain": [
              "<matplotlib.axes._subplots.AxesSubplot at 0x7f56c2b5c8d0>"
            ]
          },
          "metadata": {},
          "execution_count": 22
        },
        {
          "output_type": "display_data",
          "data": {
            "image/png": "[encoded data removed]",
            "text/plain": [
              "<Figure size 432x288 with 1 Axes>"
            ]
          },
          "metadata": {
            "needs_background": "light"
          }
        }
      ]
    },
    {
      "cell_type": "code",
      "source": [
        ""
      ],
      "metadata": {
        "id": "1EgnyF8ZannM"
      },
      "execution_count": 22,
      "outputs": []
    }
  ]
}